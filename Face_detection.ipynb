{
 "cells": [
  {
   "cell_type": "code",
   "execution_count": 11,
   "metadata": {},
   "outputs": [],
   "source": [
    "#Face Reognition\n"
   ]
  },
  {
   "cell_type": "code",
   "execution_count": 6,
   "metadata": {},
   "outputs": [],
   "source": [
    "#importing Libraries\n",
    "import cv2"
   ]
  },
  {
   "cell_type": "code",
   "execution_count": 7,
   "metadata": {},
   "outputs": [],
   "source": [
    "face_cascade=cv2.CascadeClassifier('haarcascade_frontalface_default.xml')"
   ]
  },
  {
   "cell_type": "code",
   "execution_count": 8,
   "metadata": {},
   "outputs": [],
   "source": [
    "eye_cascade=cv2.CascadeClassifier('haarcascade_eye.xml')"
   ]
  },
  {
   "cell_type": "code",
   "execution_count": 9,
   "metadata": {},
   "outputs": [],
   "source": [
    "#We will write the functions that will do the detection"
   ]
  },
  {
   "cell_type": "code",
   "execution_count": 10,
   "metadata": {},
   "outputs": [],
   "source": [
    "def detect(gray,frame):#gray is black and white image,frame-Original Image\n",
    "    faces=face_cascade.detectMultiScale(gray,1.3,5)# We apply the detectMultiScale method from the face cascade to locate one or several faces in the image.\n",
    "    #it is a tuple that returns x,y(coordinates of upper left corner,w(width of rectangle),h(height of rectangle)\n",
    "    for (x,y,w,h) in faces:#iterate through the faces and will draw some rectangles to detect eyes\n",
    "        cv2.rectangle(frame,(x,y),(x+w , y+h),(255,0,0),2)#(255,0,0)is the color for rectange in rgb(green),2 is the thickness\n",
    "        #We can now detect the eyes. We will detect them in the referential of the rectangles.\n",
    "        #We will define 2 region of interest.One for black and white image in which cascade is applied to detect eyes. and the other is the original Image in whih rectangle is drawn.\n",
    "        roi_gray=gray[y:y+h, x:x+w]\n",
    "        roi_frame=frame[y:y+h,x:x+w]\n",
    "        eyes=eye_cascade.detectMultiScale(roi_gray,1.1,3)\n",
    "            \n",
    "        for (ex,ey,ew,eh) in eyes:\n",
    "            cv2.rectangle(roi_frame,(ex,ey),(ex+ew, ey+eh),(0,255,0),2)\n",
    "    return frame\n",
    "\n",
    "#Doing some Face Recognition with WebCam\n",
    "video=cv2.VideoCapture(0)#0 for webcam of a computer\n",
    "\n",
    "while True:\n",
    "    _,frame=video.read()#we get the last frame of the WebCam.\n",
    "    # We ned to get the black and white verion of the image that we get from the Webcam\n",
    "    gray=cv2.cvtColor(frame,cv2.COLOR_BGR2GRAY)\n",
    "    canvas = detect(gray,frame)#This will get the last streamed image of the webcam with the rectangles\n",
    "    \n",
    "    cv2.imshow(\"Video\",canvas)\n",
    "    \n",
    "    if cv2.waitKey(1) & 0xFF==ord('q'):\n",
    "        break\n",
    "        \n",
    "video.release()\n",
    "cv2.destroyAllWindows()# We need to distroy all the windows where all the cv2 images were displayed\n",
    "\n",
    "\n",
    "\n",
    "    \n",
    "    \n",
    "\n",
    "            \n",
    "    "
   ]
  },
  {
   "cell_type": "code",
   "execution_count": null,
   "metadata": {},
   "outputs": [],
   "source": []
  }
 ],
 "metadata": {
  "kernelspec": {
   "display_name": "Python 3",
   "language": "python",
   "name": "python3"
  },
  "language_info": {
   "codemirror_mode": {
    "name": "ipython",
    "version": 3
   },
   "file_extension": ".py",
   "mimetype": "text/x-python",
   "name": "python",
   "nbconvert_exporter": "python",
   "pygments_lexer": "ipython3",
   "version": "3.8.3"
  }
 },
 "nbformat": 4,
 "nbformat_minor": 4
}
